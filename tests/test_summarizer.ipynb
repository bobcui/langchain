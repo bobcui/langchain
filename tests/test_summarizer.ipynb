{
 "cells": [
  {
   "cell_type": "code",
   "execution_count": 12,
   "metadata": {},
   "outputs": [
    {
     "name": "stdout",
     "output_type": "stream",
     "text": [
      "['https://www.benzinga.com/25/03/44577082/nvda-mrna-lcid-domh-tsla-top-5-trending-stocks-today', 'https://economictimes.indiatimes.com/markets/stocks/news/sp-nasdaq-post-big-quarterly-percentage-drops-on-trump-tariff-turmoil/articleshow/119836838.cms', 'https://timesofindia.indiatimes.com/business/international-business/sp-nasdaq-log-worst-quarterly-slumps-in-years-as-trump-tariff-fears-rattle-markets/articleshow/119835888.cms']\n"
     ]
    }
   ],
   "source": [
    "def get_marketaux_news(company_name: str) -> str:\n",
    "\n",
    "    import requests\n",
    "    \n",
    "    API_KEY = \"your_marketaux_api_key\"\n",
    "    url = \"https://api.marketaux.com/v1/news/all\"\n",
    "    params = {\n",
    "        \"api_token\": \"A3k62V7qsceE4p8tM4hTO053p1RxjcVJ8xqdy0zV\",\n",
    "        \"symbols\": company_name,\n",
    "        \"language\": \"en\",\n",
    "        \"limit\": 5\n",
    "    }\n",
    "    response = requests.get(url, params=params)\n",
    "    data = response.json()\n",
    "    if \"data\" in data:\n",
    "        return [article[\"url\"] for article in data[\"data\"]]\n",
    "    else:\n",
    "        return []\n",
    "\n",
    "\n",
    "company_name = \"NVDA\"\n",
    "\n",
    "news_urls = get_marketaux_news(company_name)\n",
    "print(news_urls)"
   ]
  },
  {
   "cell_type": "code",
   "execution_count": 13,
   "metadata": {},
   "outputs": [],
   "source": [
    "def scrape_article(url: str) -> str:\n",
    "    from newspaper import Article\n",
    "\n",
    "    try:\n",
    "        article = Article(url)\n",
    "        article.download()\n",
    "        article.parse()\n",
    "        return {\n",
    "            \"title\": article.title,\n",
    "            \"content\": article.text,\n",
    "        }\n",
    "    except Exception as e:\n",
    "        print(f\"Error scraping article: {e}\")\n",
    "        return {\n",
    "            \"title\": \"\",\n",
    "            \"content\": \"\",\n",
    "        }\n",
    "\n",
    "articles = [scrape_article(url) for url in news_urls]"
   ]
  },
  {
   "cell_type": "code",
   "execution_count": 14,
   "metadata": {},
   "outputs": [
    {
     "name": "stdout",
     "output_type": "stream",
     "text": [
      "title:Nvidia, Moderna, Lucid, Dominari Holdings, Tesla: Why These 5 Stocks Are On Investors' Radars Today - Dominari Holdings (NASDAQ:DOMH) len:2633\n",
      "title:S&P, Nasdaq post big quarterly percentage drops on Trump tariff turmoil len:3899\n",
      "title:S&P, Nasdaq log worst quarterly slumps in years as Trump tariff fears rattle markets len:3586\n"
     ]
    }
   ],
   "source": [
    "for article in articles:\n",
    "    print(f\"title:{article['title']} len:{len(article['content'])}\")"
   ]
  },
  {
   "cell_type": "code",
   "execution_count": 15,
   "metadata": {},
   "outputs": [],
   "source": [
    "from langchain.prompts import PromptTemplate\n",
    "from langchain.chains import LLMChain\n",
    "from langchain.llms import BaseLLM\n",
    "from langchain_core.prompts import ChatPromptTemplate, MessagesPlaceholder\n",
    "from langchain_core.messages import HumanMessage\n",
    "\n",
    "def get_summary_from_llm(llm: BaseLLM, config: dict, article_title: str, article_content: str) -> str:\n",
    "    prompt = f\"\"\"you are a professional journalist who has been asked to analyze the following article and provide a summary, sentiment analysis, and key points.\n",
    "        Analyze the following article and provide a summary, sentiment analysis, and key points:\n",
    "\n",
    "        Title: {article_title}\n",
    "        Content: {article_content}\n",
    "\n",
    "        Please provide your analysis in the following format:\n",
    "        \n",
    "        Sentiment: The overall sentiment score (positive:10, negative:1, or neutral:5)\n",
    "        Summary: A concise summary of the article (2-3 sentences)\n",
    "        \n",
    "    \"\"\"\n",
    "\n",
    "    return llm.invoke(input=prompt, config=config).content\n"
   ]
  },
  {
   "cell_type": "code",
   "execution_count": 16,
   "metadata": {},
   "outputs": [],
   "source": [
    "\n",
    "def get_human_message(article_title: str, article_content: str) -> str:\n",
    "    prompt = f\"\"\"you are a professional journalist who has been asked to analyze the following article and provide a summary, sentiment analysis, and key points.\n",
    "        Analyze the following article and provide a summary, sentiment analysis, and key points:\n",
    "\n",
    "        Title: {article_title}\n",
    "        Content: {article_content}\n",
    "\n",
    "        Please provide your analysis in the following format:\n",
    "        \n",
    "        Sentiment: The overall sentiment score (positive:10, negative:1, or neutral:5)\n",
    "        Summary: A concise summary of the article (2-3 sentences)\n",
    "        Key Points: The key points of the article (3-5 bullet points)\n",
    "        \n",
    "    \"\"\"\n",
    "    return prompt"
   ]
  },
  {
   "cell_type": "code",
   "execution_count": 17,
   "metadata": {},
   "outputs": [
    {
     "name": "stderr",
     "output_type": "stream",
     "text": [
      "/var/folders/v_/495_mfbd4rv76fxlb3w_3hs80000gn/T/ipykernel_4310/2875842115.py:7: UserWarning: WARNING! store is not default parameter.\n",
      "                store was transferred to model_kwargs.\n",
      "                Please confirm that store is what you intended.\n",
      "  llm = init_chat_model(\"gpt-4o-mini\", model_provider=\"openai\", store=True)\n"
     ]
    },
    {
     "name": "stdout",
     "output_type": "stream",
     "text": [
      "\n",
      "--1--\n",
      "\n",
      "Title: Nvidia, Moderna, Lucid, Dominari Holdings, Tesla: Why These 5 Stocks Are On Investors' Radars Today - Dominari Holdings (NASDAQ:DOMH)\n",
      "==================================\u001b[1m Ai Message \u001b[0m==================================\n",
      "\n",
      "**Sentiment:** 4 (negative)\n",
      "\n",
      "**Summary:** The stock market experienced volatility, with the S&P 500 struggling and facing its worst month since September 2022. Key stocks including Nvidia, Moderna, Lucid, Dominari Holdings, and Tesla are highlighted, each facing distinct challenges or gains amid a generally negative market sentiment.\n",
      "\n",
      "**Key Points:**\n",
      "- The S&P 500 ended the day up 0.5% but is on track for a 7% decline in March, marking the worst month since September 2022.\n",
      "- Nvidia's stock fell 1.18% despite plans for significant U.S. supply chain investments.\n",
      "- Moderna saw an 8.90% drop, reaching a new 52-week low following a major change at the FDA.\n",
      "- Lucid's stock rose 4.31% amid positive news regarding increased orders from ex-Tesla customers.\n",
      "- Dominari Holdings experienced a significant decline of 16.32% after announcing a Bitcoin mining deal and a direct offering.\n",
      "\n",
      "--2--\n",
      "\n",
      "Title: S&P, Nasdaq post big quarterly percentage drops on Trump tariff turmoil\n",
      "==================================\u001b[1m Ai Message \u001b[0m==================================\n",
      "\n",
      "**Sentiment:** 3 (negative)\n",
      "\n",
      "**Summary:** The S&P 500 and Nasdaq Composite recorded their worst quarterly performances since 2022, driven by concerns over new tariffs announced by the Trump administration. March marked significant monthly declines, prompting investor unease and fears of a global trade war, though markets showed some resilience on Monday amid tariff uncertainty and sector-specific gains.\n",
      "\n",
      "**Key Points:**\n",
      "- The S&P 500 fell 4.6% and the Nasdaq Composite dropped 10.5% in the first quarter of 2025, the worst since 2022.\n",
      "- Concerns over President Trump's new tariffs have led to fears of a global trade war that could hinder economic growth and increase inflation.\n",
      "- Tesla's stock plummeted nearly 36% and Nvidia dropped around 20% in Q1, indicating a sell-off of growth stocks.\n",
      "- Despite the overall market decline, energy-related stocks and the consumer staples sector saw increases, showcasing a degree of sector diversification.\n",
      "- Goldman Sachs raised the probability of a U.S. recession and cut its year-end S&P 500 target, highlighting escalating economic concerns.\n",
      "\n",
      "--3--\n",
      "\n",
      "Title: S&P, Nasdaq log worst quarterly slumps in years as Trump tariff fears rattle markets\n",
      "==================================\u001b[1m Ai Message \u001b[0m==================================\n",
      "\n",
      "**Sentiment:** 3 (negative)\n",
      "\n",
      "**Summary:** The S&P 500 and Nasdaq Composite faced their worst quarterly declines in years due to investor anxiety surrounding President Trump's impending announcement of new tariffs. While the markets experienced some resilience in Monday's trading, concerns over inflation, slowing growth, and geopolitical tensions continue to weigh heavily on investor sentiment, leading to increased volatility and a flight to safe-haven assets like gold.\n",
      "\n",
      "**Key Points:**\n",
      "- The S&P 500 fell 4.6% and the Nasdaq dropped 10.5% in the first quarter of 2025, marking their worst performances since Q3 2022 and Q2 2022, respectively.\n",
      "- Major tech stocks such as Tesla and Nvidia saw significant declines, contributing to the broader market downturn, with Tesla plunging almost 36%.\n",
      "- Despite poor performance in tech sectors, over half of the S&P 500 sectors saw gains, with energy performing particularly well with a 9.3% increase.\n",
      "- Amid tariff uncertainty, Goldman Sachs raised the probability of a U.S. recession to 35% and adjusted its year-end S&P 500 target downward.\n",
      "- Global markets echoed U.S. volatility, with significant declines in overseas indices and gold prices reaching record highs as investors sought safety.\n"
     ]
    }
   ],
   "source": [
    "from langchain.chat_models import init_chat_model\n",
    "from langgraph.checkpoint.memory import MemorySaver\n",
    "from langgraph.checkpoint.memory import MemorySaver\n",
    "from langgraph.graph import START, MessagesState, StateGraph\n",
    "\n",
    "config = {\"configurable\": {\"thread_id\": \"1234\"}}\n",
    "llm = init_chat_model(\"gpt-4o-mini\", model_provider=\"openai\", store=True)\n",
    "\n",
    "workflow = StateGraph(state_schema=MessagesState)\n",
    "\n",
    "def call_model(state: MessagesState):\n",
    "    response = llm.invoke(state[\"messages\"])\n",
    "    return {\"messages\": response}\n",
    "\n",
    "\n",
    "# Define the (single) node in the graph\n",
    "workflow.add_edge(START, \"model\")\n",
    "workflow.add_node(\"model\", call_model)\n",
    "\n",
    "# Add memory\n",
    "memory = MemorySaver()\n",
    "app = workflow.compile(checkpointer=memory)\n",
    "\n",
    "i = 0\n",
    "for article in articles:\n",
    "    i = i+1\n",
    "    print(f\"\\n--{i}--\\n\")\n",
    "\n",
    "    if article['content']:\n",
    "        print(f\"Title: {article['title']}\")\n",
    "        \n",
    "        input_messages = [HumanMessage(get_human_message(article['title'], article['content']))]\n",
    "        output = app.invoke({\"messages\": input_messages}, config)\n",
    "        output[\"messages\"][-1].pretty_print()\n",
    "        \n",
    "    else:\n",
    "        print(f\"Skipping article '{article['title']}' due to empty content.\")\n"
   ]
  },
  {
   "cell_type": "code",
   "execution_count": 6,
   "metadata": {},
   "outputs": [
    {
     "name": "stdout",
     "output_type": "stream",
     "text": [
      "==================================\u001b[1m Ai Message \u001b[0m==================================\n",
      "\n",
      "3/10\n"
     ]
    }
   ],
   "source": [
    "prompt = \"What's your overall sentiment about these articles? (positive:10, negative:1, or neutral:5). Only Score/10 is required.\"\n",
    "\n",
    "input_messages = [HumanMessage(prompt)]\n",
    "output = app.invoke({\"messages\": input_messages}, config)\n",
    "output[\"messages\"][-1].pretty_print()\n"
   ]
  }
 ],
 "metadata": {
  "kernelspec": {
   "display_name": "Python 3",
   "language": "python",
   "name": "python3"
  },
  "language_info": {
   "codemirror_mode": {
    "name": "ipython",
    "version": 3
   },
   "file_extension": ".py",
   "mimetype": "text/x-python",
   "name": "python",
   "nbconvert_exporter": "python",
   "pygments_lexer": "ipython3",
   "version": "3.12.8"
  }
 },
 "nbformat": 4,
 "nbformat_minor": 2
}
